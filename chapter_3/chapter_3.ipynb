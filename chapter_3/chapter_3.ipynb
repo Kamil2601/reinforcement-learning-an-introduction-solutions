{
 "cells": [
  {
   "cell_type": "markdown",
   "metadata": {},
   "source": [
    "### Excercise 3.4\n",
    "\n",
    "| $s$             | $a$                 | $s'$            | $r$          | $p(s', r \\| s, a)$|\n",
    "| ----            | ----                | ----            | ---          | ----------------- |\n",
    "| $\\texttt{high}$ | $\\texttt{search}$   | $\\texttt{high}$ | $r_{search}$ | $\\alpha$          |\n",
    "| $\\texttt{high}$ | $\\texttt{search}$   | $\\texttt{low}$  | $r_{search}$ | $1-\\alpha$        |\n",
    "| $\\texttt{high}$ | $\\texttt{wait}$     | $\\texttt{high}$ | $r_{wait}$   | 1                 |\n",
    "| $\\texttt{low}$  | $\\texttt{search}$   | $\\texttt{high}$ | $-3$         | $1-\\beta$         |\n",
    "| $\\texttt{low}$  | $\\texttt{search}$   | $\\texttt{low}$  | $r_{search}$ | $\\beta$           |\n",
    "| $\\texttt{low}$  | $\\texttt{wait}$     | $\\texttt{low}$  | $r_{wait}$   | 1                 |\n",
    "| $\\texttt{low}$  | $\\texttt{recharge}$ | $\\texttt{high}$ | 0            |  1                |"
   ]
  },
  {
   "cell_type": "markdown",
   "metadata": {},
   "source": [
    "### Excercise 3.10\n",
    "Sum of first n elements of geometric sequence, where $a_{n+1} = qa_n$\n",
    "$$\n",
    "S_n = a_1\\frac{1-q^n}{1-q}\n",
    "$$\n",
    "In our case $a_1 = 0$ and $q=\\gamma$, so\n",
    "$$\n",
    "S_n = \\frac{1-\\gamma^n}{1-\\gamma}\n",
    "$$\n",
    "$$\n",
    "S_{\\infty} = lim_{n \\to \\infty} \\frac{1-\\gamma^n}{1-\\gamma} = \\frac{1}{1-\\gamma}\n",
    "$$"
   ]
  }
 ],
 "metadata": {
  "language_info": {
   "name": "python"
  }
 },
 "nbformat": 4,
 "nbformat_minor": 2
}

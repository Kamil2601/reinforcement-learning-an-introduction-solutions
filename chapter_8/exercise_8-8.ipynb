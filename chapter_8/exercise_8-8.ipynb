{
 "cells": [
  {
   "cell_type": "code",
   "execution_count": 154,
   "id": "51c78b8c",
   "metadata": {},
   "outputs": [],
   "source": [
    "import numpy as np\n",
    "import random\n",
    "import matplotlib.pyplot as plt\n",
    "from tqdm import tqdm"
   ]
  },
  {
   "cell_type": "code",
   "execution_count": 155,
   "id": "fe483a46",
   "metadata": {},
   "outputs": [],
   "source": [
    "class Environment:\n",
    "    def __init__(self, n_states = 1000, n_actions = 2, branching_factor = 2, terminal_transition_probability = 0.1):\n",
    "        self.n_states = n_states\n",
    "        self.n_actions = n_actions\n",
    "        self.branching_factor = branching_factor\n",
    "        self.terminal_transition_probability = terminal_transition_probability\n",
    "\n",
    "        self.start_state = 0\n",
    "        self.terminal_state = n_states - 1\n",
    "        self.n_non_terminal_states = n_states - 1\n",
    "    \n",
    "        self.init_transitions()\n",
    "\n",
    "    def init_transitions(self):\n",
    "        self.transitions = {}\n",
    "        self.rewards = {}\n",
    "        for state in range(self.n_non_terminal_states):\n",
    "            self.transitions[state] = {}\n",
    "            self.rewards[state] = {}\n",
    "            for action in range(self.n_actions):\n",
    "                self.transitions[state][action] = random.sample(range(self.n_states), k=self.branching_factor)\n",
    "                self.rewards[state][action] = random.normalvariate(0, 1)\n",
    "    \n",
    "    def step(self, state, action):\n",
    "        reward = self.rewards[state][action]\n",
    "\n",
    "        if random.random() < self.terminal_transition_probability:\n",
    "            next_state = self.terminal_state\n",
    "            done = True\n",
    "        else:\n",
    "            next_state = random.choice(self.transitions[state][action])\n",
    "            done = next_state == self.terminal_state\n",
    "\n",
    "        return next_state, reward, done\n",
    "    \n",
    "    def valid_actions(self, state):\n",
    "        return list(range(self.n_actions))\n",
    "\n",
    "    def all_possible_states(self):\n",
    "        return list(range(self.n_states))\n",
    "    \n",
    "    def non_terminal_states(self):\n",
    "        return list(range(self.n_non_terminal_states))"
   ]
  },
  {
   "cell_type": "code",
   "execution_count": 156,
   "id": "72da5bc5",
   "metadata": {},
   "outputs": [],
   "source": [
    "def expected_value(env, state, action, Q, gamma=1):\n",
    "    transition = env.transitions[state][action]\n",
    "    reward = env.rewards[state][action]\n",
    "\n",
    "    res = reward + (1 - env.terminal_transition_probability) * gamma * np.mean([max(Q[next_state].values()) for next_state in transition]).item()\n",
    "\n",
    "    return res"
   ]
  },
  {
   "cell_type": "code",
   "execution_count": 157,
   "id": "76d05b29",
   "metadata": {},
   "outputs": [],
   "source": [
    "class Policy:\n",
    "    def __init__(self, env, epsilon=0.1):\n",
    "        self.env = env\n",
    "        self.epsilon = epsilon\n",
    "\n",
    "        self.Q = {\n",
    "            state: {action: 0 for action in env.valid_actions(state)}\n",
    "            for state in env.all_possible_states()\n",
    "        }\n",
    "\n",
    "    def action(self, state):\n",
    "        if np.random.rand() < self.epsilon:\n",
    "            return random.choice(list(self.Q[state].keys()))\n",
    "        else:\n",
    "            return self.greedy_action(state)\n",
    "\n",
    "    def greedy_action(self, state):\n",
    "        max_value = max(self.Q[state].values())\n",
    "        actions = [action for action, value in self.Q[state].items() if value == max_value]\n",
    "        action = random.choice(actions)\n",
    "        return action\n",
    "\n",
    "    def update(self, state, action, new_value):\n",
    "        self.Q[state][action] = new_value"
   ]
  },
  {
   "cell_type": "code",
   "execution_count": 158,
   "id": "3adf2abc",
   "metadata": {},
   "outputs": [],
   "source": [
    "env = Environment()\n",
    "policy = Policy(env)"
   ]
  },
  {
   "cell_type": "code",
   "execution_count": 159,
   "id": "c9cf7da0",
   "metadata": {},
   "outputs": [],
   "source": [
    "def start_state_true_value_MC(env, policy, episodes=1):\n",
    "    rewards = []\n",
    "\n",
    "    for _ in range(episodes):\n",
    "        state = env.start_state\n",
    "        total_reward = 0\n",
    "        steps = 0\n",
    "\n",
    "        while state != env.terminal_state:\n",
    "            action = policy.greedy_action(state)\n",
    "            next_state, reward, done = env.step(state, action)\n",
    "            total_reward += reward\n",
    "            state = next_state\n",
    "            steps += 1\n",
    "\n",
    "        rewards.append(total_reward)\n",
    "\n",
    "    return np.mean(rewards).item()"
   ]
  },
  {
   "cell_type": "code",
   "execution_count": 165,
   "id": "4dee6f13",
   "metadata": {},
   "outputs": [],
   "source": [
    "def state_new_estimate(env, policy, state, V, gamma=1):\n",
    "    if state == env.terminal_state:\n",
    "        return 0\n",
    "\n",
    "    action = policy.greedy_action(state)\n",
    "    transition = env.transitions[state][action]\n",
    "    reward = env.rewards[state][action]\n",
    "\n",
    "    res = (\n",
    "        reward\n",
    "        + (1 - env.terminal_transition_probability)\n",
    "        * gamma\n",
    "        * np.mean([V[next_state] for next_state in transition]).item()\n",
    "    )\n",
    "\n",
    "    return res\n",
    "\n",
    "\n",
    "def generate_episode(env, policy):\n",
    "    state = env.start_state\n",
    "    episode = [state]\n",
    "\n",
    "    while state != env.terminal_state:\n",
    "        action = policy.action(state)\n",
    "        next_state, reward, done = env.step(state, action)\n",
    "        state = next_state\n",
    "        episode.append(state)\n",
    "\n",
    "    return episode\n",
    "\n",
    "\n",
    "def generate_episode_with_branches(env, policy):\n",
    "    state = env.start_state\n",
    "    episode = [state]\n",
    "\n",
    "    while state != env.terminal_state:\n",
    "        action = policy.action(state)\n",
    "        next_state, reward, done = env.step(state, action)\n",
    "        state = next_state\n",
    "        episode += env.transitions[state][action]  # Add branches to the episode\n",
    "        episode.append(state)\n",
    "\n",
    "    return episode\n",
    "\n",
    "\n",
    "def start_state_true_value(env, policy, diff_threshold=0.001):\n",
    "    V = {\n",
    "        state: policy.Q[state][policy.greedy_action(state)]\n",
    "        for state in env.all_possible_states()\n",
    "    }\n",
    "\n",
    "    done = False\n",
    "\n",
    "    while not done:\n",
    "        episode = generate_episode(env, policy)\n",
    "        # episode = generate_episode_with_branches(env, policy)\n",
    "        done = True\n",
    "        for state in episode[::-1]:\n",
    "            v = V[state]\n",
    "            V[state] = state_new_estimate(env, policy, state, V)\n",
    "            if abs(v - V[state]) > diff_threshold:\n",
    "                done = False\n",
    "\n",
    "    return V[env.start_state]"
   ]
  },
  {
   "cell_type": "code",
   "execution_count": 166,
   "id": "a709b87b",
   "metadata": {},
   "outputs": [],
   "source": [
    "def evaluate(env, q, state, depth=10):\n",
    "    if depth == 0:\n",
    "        return max(q[state].values())\n",
    "\n",
    "    action = max(q[state], key=q[state].get)\n",
    "\n",
    "    reward = env.rewards[state][action]\n",
    "    next_states = env.transitions[state][action]\n",
    "\n",
    "    return reward + (1 - env.terminal_transition_probability) * np.mean(\n",
    "        [evaluate(env, q, next_state, depth - 1) for next_state in next_states]\n",
    "    )"
   ]
  },
  {
   "cell_type": "code",
   "execution_count": null,
   "id": "a73efa64",
   "metadata": {},
   "outputs": [],
   "source": [
    "def update_uniform(env, policy=None, n_updates=20000):\n",
    "    if policy is None:\n",
    "        policy = Policy(env)\n",
    "\n",
    "    done_updates = 0\n",
    "\n",
    "    start_state_values = [start_state_true_value(env, policy)]\n",
    "\n",
    "    while True:\n",
    "        for state in env.non_terminal_states():\n",
    "            for action in env.valid_actions(state):\n",
    "                exp_value = expected_value(env, state, action, policy.Q)\n",
    "                policy.update(state, action, exp_value)\n",
    "\n",
    "                done_updates += 1\n",
    "\n",
    "                if done_updates % 100 == 0:\n",
    "                    start_state_value = start_state_true_value(env, policy)\n",
    "                    # start_state_value = start_state_true_value_MC(env, policy, episodes=100)\n",
    "                    # start_state_value = evaluate(env, policy.Q, env.start_state)\n",
    "\n",
    "                    start_state_values.append(start_state_value)\n",
    "\n",
    "                if done_updates >= n_updates:\n",
    "                    return start_state_values"
   ]
  },
  {
   "cell_type": "code",
   "execution_count": 187,
   "id": "17102447",
   "metadata": {},
   "outputs": [],
   "source": [
    "def update_on_policy(env, policy=None, n_updates=20000):\n",
    "    if policy is None:\n",
    "        policy = Policy(env)\n",
    "\n",
    "    done_updates = 0\n",
    "\n",
    "    start_state_values = [start_state_true_value(env, policy)]\n",
    "\n",
    "    while True:\n",
    "        state = env.start_state\n",
    "        while state != env.terminal_state:\n",
    "            action = policy.action(state)\n",
    "            next_state, reward, done = env.step(state, action)\n",
    "\n",
    "            exp_value = expected_value(env, state, action, policy.Q)\n",
    "            policy.update(state, action, exp_value)\n",
    "\n",
    "            state = next_state\n",
    "\n",
    "            done_updates += 1\n",
    "\n",
    "            if done_updates % 100 == 0:\n",
    "                start_state_value = start_state_true_value(env, policy)\n",
    "                # start_state_value = start_state_true_value_MC(env, policy, episodes=100)\n",
    "                # start_state_value = evaluate(env, policy.Q, env.start_state)\n",
    "\n",
    "                start_state_values.append(start_state_value)\n",
    "\n",
    "            if done_updates >= n_updates:\n",
    "                return start_state_values"
   ]
  },
  {
   "cell_type": "code",
   "execution_count": 181,
   "id": "dd7b0b91",
   "metadata": {},
   "outputs": [
    {
     "name": "stderr",
     "output_type": "stream",
     "text": [
      "100%|██████████| 200/200 [01:06<00:00,  3.03it/s]\n"
     ]
    }
   ],
   "source": [
    "values = []\n",
    "env = Environment(branching_factor=1, n_states=1000)\n",
    "n_updates = 20000\n",
    "\n",
    "for i in tqdm(range(200)):\n",
    "    policy = Policy(env)\n",
    "    values.append(update_uniform(env, policy=policy, n_updates=n_updates))\n",
    "\n",
    "mean_values_uniform_b1 = np.mean(values, axis=0)"
   ]
  },
  {
   "cell_type": "code",
   "execution_count": 188,
   "id": "0eb1e9d9",
   "metadata": {},
   "outputs": [
    {
     "name": "stderr",
     "output_type": "stream",
     "text": [
      "100%|██████████| 200/200 [01:26<00:00,  2.30it/s]\n"
     ]
    }
   ],
   "source": [
    "values = []\n",
    "\n",
    "for i in tqdm(range(200)):\n",
    "    policy = Policy(env)\n",
    "    values.append(update_on_policy(env, policy=policy, n_updates=n_updates))\n",
    "\n",
    "mean_values_on_policy_b1 = np.mean(values, axis=0)"
   ]
  },
  {
   "cell_type": "code",
   "execution_count": null,
   "id": "58b1e9df",
   "metadata": {},
   "outputs": [],
   "source": [
    "env = Environment(branching_factor=3, n_states=1000)\n",
    "\n",
    "values = []\n",
    "\n",
    "for i in tqdm(range(200)):\n",
    "    policy = Policy(env)\n",
    "    values.append(update_uniform(env, policy=policy, n_updates=n_updates))\n",
    "\n",
    "mean_values_uniform_b3 = np.mean(values, axis=0)"
   ]
  },
  {
   "cell_type": "code",
   "execution_count": 190,
   "id": "19e729ff",
   "metadata": {},
   "outputs": [
    {
     "name": "stderr",
     "output_type": "stream",
     "text": [
      "100%|██████████| 200/200 [01:26<00:00,  2.31it/s]\n"
     ]
    }
   ],
   "source": [
    "values = []\n",
    "\n",
    "for i in tqdm(range(200)):\n",
    "    policy = Policy(env)\n",
    "    values.append(update_on_policy(env, policy=policy, n_updates=n_updates))\n",
    "\n",
    "mean_values_on_policy_b3 = np.mean(values, axis=0)"
   ]
  },
  {
   "cell_type": "code",
   "execution_count": 191,
   "id": "49766eec",
   "metadata": {},
   "outputs": [
    {
     "data": {
      "image/png": "[encoded data removed]",
      "text/plain": [
       "<Figure size 640x480 with 1 Axes>"
      ]
     },
     "metadata": {},
     "output_type": "display_data"
    }
   ],
   "source": [
    "ploted_timesteps = list(range(0, 20001, 100))\n",
    "\n",
    "plt.plot(ploted_timesteps, mean_values_uniform_b1, label='Uniform Update (b = 1)')\n",
    "plt.plot(ploted_timesteps, mean_values_on_policy_b1, label='On-Policy Update (b = 1)')\n",
    "\n",
    "plt.plot(ploted_timesteps, mean_values_uniform_b3, label='Uniform Update (b = 3)')\n",
    "plt.plot(ploted_timesteps, mean_values_on_policy_b3, label='On-Policy Update (b = 3)')\n",
    "\n",
    "plt.xlabel('Computation time in expected updates')\n",
    "plt.ylabel('Value of Start State')\n",
    "plt.title('Value of Start State Over Time')\n",
    "plt.grid()\n",
    "plt.legend()\n",
    "plt.show()"
   ]
  }
 ],
 "metadata": {
  "kernelspec": {
   "display_name": "python",
   "language": "python",
   "name": "python3"
  },
  "language_info": {
   "codemirror_mode": {
    "name": "ipython",
    "version": 3
   },
   "file_extension": ".py",
   "mimetype": "text/x-python",
   "name": "python",
   "nbconvert_exporter": "python",
   "pygments_lexer": "ipython3",
   "version": "3.13.2"
  }
 },
 "nbformat": 4,
 "nbformat_minor": 5
}

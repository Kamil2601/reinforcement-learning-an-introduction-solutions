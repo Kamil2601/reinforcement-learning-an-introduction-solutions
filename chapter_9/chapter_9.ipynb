{
 "cells": [
  {
   "cell_type": "markdown",
   "id": "b09b0926",
   "metadata": {},
   "source": [
    "### Exercise 9.1\n",
    "Show that tabular methods such as presented in Part I of this book are a special case of linear function approximation. What would the feature vectors be?\n",
    "\n",
    "**Answer**\n",
    "\n",
    "Suppose the environment has $n$ states ($s_1,...,s_n$). The feature vector would be a one-hot vector of length $n$:\n",
    "\n",
    "$$\n",
    "x_i(s)=\\begin{cases}\n",
    "\t\t\t1, & \\text{if $s == s_i$}\\\\\n",
    "            0, & \\text{otherwise}\n",
    "\t\t \\end{cases}\n",
    "$$\n",
    "\n",
    "$$\n",
    "\\textbf{x}(s_i) = (0,...,0,1,0,...,0)^{\\top} \\text{ (1 on $i$-th place)}\n",
    "$$\n",
    "\n",
    "Vector $\\textbf{w}$ would contain $n$ values - a current estimate for each state.\n",
    "\n",
    "So when a state $S_t = s_i$ is visited, the update is done as follows\n",
    "\n",
    "\\begin{split}\n",
    "\\textbf{w}_{t+1} &= \\textbf{w}_t + \\alpha \\left[U_t + \\hat{v}(s_i \\textbf{w}_t)\\right]\\textbf{x}(s_i) \\\\\n",
    "                 &= \\begin{bmatrix} w_t^1 \\\\ \\vdots \\\\ w_t^i \\\\ \\vdots \\\\ w_t^n \\end{bmatrix} + \\Delta \\cdot \\begin{bmatrix} 0 \\\\ \\vdots \\\\ 1 \\\\ \\vdots \\\\ 0 \\end{bmatrix}\\\\\n",
    "                 &= \\begin{bmatrix} w_t^1 \\\\ \\vdots \\\\ w_t^i \\\\ \\vdots \\\\ w_t^n \\end{bmatrix} + \\begin{bmatrix}0 \\\\ \\vdots \\\\ \\Delta \\\\ \\vdots \\\\ 0\\end{bmatrix}\\\\\n",
    "                 &= \\begin{bmatrix} w_t^1 \\\\ \\vdots \\\\ w_t^i + \\Delta \\\\ \\vdots \\\\ w_t^n \\end{bmatrix}\n",
    "\\end{split}\n",
    "where $\\Delta = \\alpha \\left[U_t + \\hat{v}(s_i, \\textbf{w}_t)\\right]$.\n",
    "So, only the estimated value of state $s_i$ changes."
   ]
  },
  {
   "cell_type": "markdown",
   "id": "343c4437",
   "metadata": {},
   "source": [
    "### Exercise 9.2\n",
    "Why does $x_i(s) = \\prod_{j=1}^k s_j^{c_{i,j}}$ define $(n + 1)^k$ distinct features for dimension $k$?\n",
    "\n",
    "**Answer**\n",
    "\n",
    "In each feature $x_i$, each number $s_j$ is raised to the power of $c_{i,j} \\in \\{0, 1, ..., n\\}$, so there are $(n+1)$ options for each number. There are $k$ numbers so we have $(n+1)^k$ options to construct a feature."
   ]
  },
  {
   "cell_type": "markdown",
   "id": "b5b19b4e",
   "metadata": {},
   "source": [
    "### Exercise 9.3\n",
    "What $n$ and $c_{i,j}$ produce the feature vectors $\\textbf{x}(s) = (1, s_1, s_2, s_1 s_2,s_1^2,s_2^2, s_1 s_2^2 , s_1^2 s_2 , s_1^2 s_2^2 )^{\\top}$?\n",
    "\n",
    "**Answer**\n",
    "\n",
    "$n=2$\n",
    "\n",
    "$c_{i,j} = $\n",
    "| $i \\backslash j$ | 1 | 2 |\n",
    "|------------------|---|---|\n",
    "| 1                | 0 | 0 |\n",
    "| 2                | 1 | 0 |\n",
    "| 3                | 0 | 1 |\n",
    "| 4                | 1 | 1 |\n",
    "| 5                | 0 | 2 |\n",
    "| 6                | 2 | 0 |\n",
    "| 7                | 1 | 2 |\n",
    "| 8                | 2 | 1 |\n",
    "| 9                | 2 | 2 |"
   ]
  }
 ],
 "metadata": {
  "language_info": {
   "name": "python"
  }
 },
 "nbformat": 4,
 "nbformat_minor": 5
}

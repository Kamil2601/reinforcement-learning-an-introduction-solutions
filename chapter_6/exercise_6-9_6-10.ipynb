{
 "cells": [
  {
   "cell_type": "code",
   "execution_count": 10,
   "metadata": {},
   "outputs": [],
   "source": [
    "import numpy as np\n",
    "import random\n",
    "import matplotlib.pyplot as plt"
   ]
  },
  {
   "cell_type": "code",
   "execution_count": 11,
   "metadata": {},
   "outputs": [],
   "source": [
    "BASIC_MOVES = [(0, 1), (1, 0), (0, -1), (-1, 0)]\n",
    "KING_MOVES = BASIC_MOVES + [(1, 1), (1, -1), (-1, -1), (-1, 1)]\n",
    "KING_NULL_MOVES = KING_MOVES + [(0, 0)]"
   ]
  },
  {
   "cell_type": "code",
   "execution_count": 12,
   "metadata": {},
   "outputs": [],
   "source": [
    "class WindyGridworld:\n",
    "    def __init__(self, rows, cols, wind_strength, start, goal, moves=BASIC_MOVES, stochastic_wind=False):\n",
    "        self.rows = rows\n",
    "        self.cols = cols\n",
    "        self.wind_strength = wind_strength\n",
    "        self.start = start\n",
    "        self.goal = goal\n",
    "        self.moves = moves\n",
    "        self.stochastic_wind = stochastic_wind\n",
    "        self._states = [(i, j) for i in range(self.rows) for j in range(self.cols)]\n",
    "\n",
    "    def possible_actions(self, state):\n",
    "        actions = [move for move in self.moves if self.is_valid_move(state, move)]\n",
    "        return actions\n",
    "    \n",
    "    def is_valid_move(self, state, move):\n",
    "        new_state = np.array(state) + np.array(move)\n",
    "        return new_state[0] >= 0 and new_state[0] < self.rows and new_state[1] >= 0 and new_state[1] < self.cols\n",
    "    \n",
    "    def is_terminal(self, state):\n",
    "        return tuple(state) == tuple(self.goal)\n",
    "    \n",
    "    def wind(self, state):\n",
    "        wind = self.wind_strength[state[1]]\n",
    "        \n",
    "        if self.stochastic_wind:\n",
    "            wind += np.random.choice([-1, 0, 1])\n",
    "        \n",
    "        return wind\n",
    "    \n",
    "    def states(self):\n",
    "        return self._states\n",
    "    \n",
    "    def plot_episode(self, states, actions = None):\n",
    "        y_coords, x_coords = zip(*states)\n",
    "\n",
    "        plt.figure(figsize=(6, 6))\n",
    "        plt.plot(x_coords, y_coords, marker='o', color='b', linestyle='-')\n",
    "\n",
    "        plt.scatter(self.start[1], self.start[0], color='red', s=500, label='Start', marker='s')\n",
    "        plt.scatter(self.goal[1], self.goal[0], color='purple', s=500, label='End', marker='*')\n",
    "\n",
    "        if actions:\n",
    "            for (y, x), (dy, dx) in zip(states[:-1], actions):\n",
    "                plt.arrow(x, y, dx * 0.4, dy * 0.4, head_width=0.2, head_length=0.2, color='green')\n",
    "\n",
    "        for idx, val in enumerate(self.wind_strength):\n",
    "            plt.text(idx + 0.5, -0.5, str(val), ha='center', va='center', color='grey')\n",
    "        \n",
    "        plt.xlim(-0.5, self.cols + 0.5)\n",
    "        plt.ylim(-1, self.rows + 0.5)\n",
    "        \n",
    "        plt.grid(True, which='both')\n",
    "        plt.xticks(range(self.cols + 1))\n",
    "        plt.yticks(range(self.rows + 1))\n",
    "        \n",
    "        plt.gca().set_aspect('equal', adjustable='box')\n",
    "        plt.title('Episode')\n",
    "        plt.show()\n",
    "\n",
    "    \n",
    "    def step(self, state, action):\n",
    "        wind = self.wind(state)\n",
    "        state = np.array(state)\n",
    "        action = np.array(action)\n",
    "        next_state = state + action + np.array([wind, 0])\n",
    "        next_state = np.clip(next_state, [0, 0], [self.rows - 1, self.cols - 1])\n",
    "        reward = -1\n",
    "        done = False\n",
    "        if self.is_terminal(next_state):\n",
    "            reward = 0\n",
    "            done = True\n",
    "        \n",
    "        return tuple(next_state), reward, done"
   ]
  },
  {
   "cell_type": "code",
   "execution_count": 13,
   "metadata": {},
   "outputs": [],
   "source": [
    "class Policy:\n",
    "    def __init__(self, env: WindyGridworld):\n",
    "        self.env = env\n",
    "        \n",
    "    def probabilities(self, state):\n",
    "        pass\n",
    "    \n",
    "    def stochastic_action(self, state):\n",
    "        pass\n",
    "    \n",
    "    def deterministic_action(self, state):\n",
    "        pass\n",
    "\n",
    "    def probability(self, state, action):\n",
    "        pass\n",
    "    \n",
    "    def improve(self, state, optimal_action):\n",
    "        pass\n",
    "\n",
    "\n",
    "class EpislonGreedyPolicy(Policy):\n",
    "    def __init__(self, env: WindyGridworld, epsilon=0.5, Q=None):\n",
    "        self.env = env\n",
    "        self.epislon = epsilon\n",
    "        self.states = env.states()\n",
    "        self.actions = {state: env.possible_actions(state) for state in self.states}\n",
    "\n",
    "        self._probabilities = {state: {action: self.epislon/len(self.actions[state]) for action in self.actions[state]} for state in self.states}\n",
    "\n",
    "        if Q is not None:\n",
    "            self.deterministic_actions = {state: max(self.actions[state], key=lambda action: Q[state][action]) for state in self.states}\n",
    "        else:\n",
    "            self.deterministic_actions = {state: random.choice(self.actions[state]) for state in self.states}\n",
    "\n",
    "        for state in self.states:\n",
    "            self._probabilities[state][self.deterministic_actions[state]] += 1 - self.epislon\n",
    "\n",
    "\n",
    "    def probabilities(self, state):\n",
    "        return self._probabilities[state]\n",
    "    \n",
    "    def stochastic_action(self, state):\n",
    "        return random.choices(self.actions[state], weights=[self._probabilities[state][action] for action in self.actions[state]])[0]\n",
    "    \n",
    "    def deterministic_action(self, state):\n",
    "        return self.deterministic_actions[state]\n",
    "    \n",
    "    def probability(self, state, action):\n",
    "        return self._probabilities[state][action]\n",
    "    \n",
    "    def improve(self, state, action, Q):\n",
    "        optimal_action = max(self.actions[state], key=lambda action: Q[state][action])\n",
    "        self.deterministic_actions[state] = optimal_action\n",
    "        self._probabilities[state] = {action: self.epislon/len(self.actions[state]) for action in self.actions[state]}\n",
    "        self._probabilities[state][optimal_action] += 1 - self.epislon\n"
   ]
  },
  {
   "cell_type": "code",
   "execution_count": 14,
   "metadata": {},
   "outputs": [],
   "source": [
    "def sarsa(env, episodes = 1000, alpha = 0.5, gamma = 1, epsilon = 0.1):\n",
    "    Q = {state: {action: 0 for action in env.possible_actions(state)} for state in env.states()}\n",
    "    policy = EpislonGreedyPolicy(env, epsilon=epsilon, Q=Q)\n",
    "\n",
    "    for _ in range(episodes):\n",
    "        state = env.start\n",
    "        action = policy.stochastic_action(state)\n",
    "        while not env.is_terminal(state):\n",
    "            next_state, reward, done = env.step(state, action)\n",
    "            next_action = policy.stochastic_action(next_state)\n",
    "            Q[state][action] += alpha * (reward + gamma * Q[next_state][next_action] - Q[state][action])\n",
    "            policy.improve(state, action, Q)\n",
    "            state = next_state\n",
    "            action = next_action\n",
    "\n",
    "    return Q, policy"
   ]
  },
  {
   "cell_type": "code",
   "execution_count": 15,
   "metadata": {},
   "outputs": [],
   "source": [
    "def plot_episode(env, policy, stochastic_actions = False, max_steps = 1000):\n",
    "    state = env.start\n",
    "    states = [state]\n",
    "    actions = []\n",
    "\n",
    "    while not env.is_terminal(state):\n",
    "        if stochastic_actions:\n",
    "            action = policy.stochastic_action(state)\n",
    "        else:\n",
    "            action = policy.deterministic_action(state)\n",
    "        \n",
    "        next_state, _, _ = env.step(state, action)\n",
    "        states.append(next_state)\n",
    "        actions.append(action)\n",
    "        state = next_state\n",
    "\n",
    "        if len(states) > max_steps:\n",
    "            break\n",
    "        \n",
    "    env.plot_episode(states, actions)"
   ]
  },
  {
   "cell_type": "markdown",
   "metadata": {},
   "source": [
    "### Exercise 6.9"
   ]
  },
  {
   "cell_type": "code",
   "execution_count": 16,
   "metadata": {},
   "outputs": [
    {
     "data": {
      "image/png": "[encoded data removed]",
      "text/plain": [
       "<Figure size 600x600 with 1 Axes>"
      ]
     },
     "metadata": {},
     "output_type": "display_data"
    }
   ],
   "source": [
    "env = WindyGridworld(\n",
    "    7,\n",
    "    10,\n",
    "    [0, 0, 0, 1, 1, 1, 2, 2, 1, 0],\n",
    "    (3, 0),\n",
    "    (3, 7),\n",
    "    moves=KING_MOVES,\n",
    "    stochastic_wind=False,\n",
    ")\n",
    "\n",
    "Q, policy = sarsa(env, episodes=1000, alpha=0.5, gamma=1, epsilon=0.1)\n",
    "\n",
    "plot_episode(env, policy, stochastic_actions=False)"
   ]
  },
  {
   "cell_type": "markdown",
   "metadata": {},
   "source": [
    "### Exercise 6.10"
   ]
  },
  {
   "cell_type": "code",
   "execution_count": 17,
   "metadata": {},
   "outputs": [
    {
     "data": {
      "image/png": "[encoded data removed]",
      "text/plain": [
       "<Figure size 600x600 with 1 Axes>"
      ]
     },
     "metadata": {},
     "output_type": "display_data"
    }
   ],
   "source": [
    "env = WindyGridworld(\n",
    "    7,\n",
    "    10,\n",
    "    [0, 0, 0, 1, 1, 1, 2, 2, 1, 0],\n",
    "    (3, 0),\n",
    "    (3, 7),\n",
    "    moves=KING_NULL_MOVES,\n",
    "    stochastic_wind=False,\n",
    ")\n",
    "\n",
    "Q, policy = sarsa(env, episodes=10000, alpha=0.1, gamma=1, epsilon=0.2)\n",
    "\n",
    "plot_episode(env, policy, stochastic_actions=False)"
   ]
  }
 ],
 "metadata": {
  "kernelspec": {
   "display_name": "python",
   "language": "python",
   "name": "python3"
  },
  "language_info": {
   "codemirror_mode": {
    "name": "ipython",
    "version": 3
   },
   "file_extension": ".py",
   "mimetype": "text/x-python",
   "name": "python",
   "nbconvert_exporter": "python",
   "pygments_lexer": "ipython3",
   "version": "3.12.4"
  }
 },
 "nbformat": 4,
 "nbformat_minor": 2
}

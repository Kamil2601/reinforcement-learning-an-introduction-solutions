{
 "cells": [
  {
   "cell_type": "markdown",
   "metadata": {},
   "source": [
    "### Exercise 6.1\n",
    "\n",
    "\n",
    "1. $\\delta_t = R_{t+1} + \\gamma V_t(S_{t+1}) - V_t(S_t)$\n",
    "2. $V_{t+1}(S_t) = V_t(S_t) + \\alpha [R_{t+1} + \\gamma V_t(S_{t+1}) - V_t(S_t)]$\n",
    "3. $V_{k+1}(S_t) = V_k(S_t) + \\alpha [R_{t+2} + \\gamma V_k(S_{t+1}) - V_k(S_t)]$ (generalized 2)\n",
    "\n",
    "$\n",
    "G_t - V_t(S_t) \\\\\n",
    "= R_{t+1} + \\gamma G_{t+1} - V_t(S) \\\\\n",
    "= R_{t+1} + \\gamma V_t(S_{t+1}) - V_t(S_t) + \\gamma G_{t+1} - \\gamma V_t(S_{t+1}) \\\\\n",
    "= \\delta_t + \\gamma G_{t+1} - \\gamma V_t(S_{t+1}) \\\\\n",
    "= \\delta_t + \\gamma [G_{t+1} - V_{t+1}(S_{t+1})] + \\gamma [V_{t+1}(S_{t+1}) - V_t(S_{t+1})]\n",
    "= \\delta_t + \\gamma [G_{t+1} - V_{t+1}(S_{t+1})] + \\gamma [V_t(S_{t+1}) + \\alpha [R_{t+2} + \\gamma V_t(S_{t+2}) - V_t{S_{t+2}}] - V_t(S_{t+1})] \\text{   (from 3.)} \\\\\n",
    "= \\delta_t + \\gamma [G_{t+1} - V_{t+1}(S_{t+1})] + \\alpha \\gamma [R_{t+2} + \\gamma V_t(S_{t+2}) - V_t{S_{t+2}}] \\\\\n",
    "\\text{Now } [G_{t+1} - V_{t+1}(S_{t+1})] \\text{ is the first formula with higher index, so we have recursive unfolding} \\\\\n",
    "= \\delta_t + \\gamma [\\delta_{t+1} + \\gamma[G_{t+2} - V_{t+2}(S_{t+2})] + \\alpha \\gamma [R_{t+3} + \\gamma V_{t+1}(S_{t+3}) - V_{t+1}(S_{t+2})]] + \\alpha \\gamma [R_{t+2} + \\gamma V_t(S_{t+2}) - V_t{S_{t+2}}] \\\\\n",
    "= \\delta_t + \\gamma \\delta_{t+1} + \\gamma^2[G_{t+2} - V_{t+2}(S_{t+2})] + \\alpha [\\gamma^2 [R_{t+3} + \\gamma V_{t+1}(S_{t+3}) - V_{t+1}(S_{t+2})] + \\gamma [R_{t+2} + \\gamma V_t(S_{t+2}) - V_t{S_{t+2}}]] \\\\\n",
    "... \\\\\n",
    "= \\sum_{k=t}^{T-1} \\gamma^{k-t} \\delta_k + \\alpha \\sum_{k=t}^{T-2} \\gamma^{k-t+1} [R_{k+2} + \\gamma V_k(S_{k+2}) - V_k(S_{k+1})]\n",
    "$"
   ]
  }
 ],
 "metadata": {
  "language_info": {
   "name": "python"
  }
 },
 "nbformat": 4,
 "nbformat_minor": 2
}

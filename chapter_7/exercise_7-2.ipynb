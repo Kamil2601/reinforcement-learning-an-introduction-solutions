{
 "cells": [
  {
   "cell_type": "markdown",
   "metadata": {},
   "source": [
    "### Exercise 6.2"
   ]
  },
  {
   "cell_type": "code",
   "execution_count": 6,
   "metadata": {},
   "outputs": [],
   "source": [
    "import random\n",
    "\n",
    "class RandomWalk:\n",
    "    def __init__(self, n_states):\n",
    "        self.n_states = n_states\n",
    "        self.terminal_state = -1\n",
    "        self.initial_state = n_states // 2\n",
    "\n",
    "    def step(self, state):\n",
    "        if state < 0 or state >= self.n_states:\n",
    "            raise ValueError(\"State out of bounds\")\n",
    "        \n",
    "        if state == self.n_states - 1:\n",
    "            next_state = random.choice([state - 1, self.terminal_state])\n",
    "            if next_state == self.terminal_state:\n",
    "                return next_state, 1.0\n",
    "            else:\n",
    "                return next_state, 0.0\n",
    "            \n",
    "        \n",
    "        return random.choice([state - 1, state + 1]), 0.0\n",
    "    \n",
    "    def is_terminal(self, state):\n",
    "        return state == self.terminal_state\n",
    "    \n",
    "    def true_values(self):\n",
    "        return [(i+1) / (self.n_states + 1) for i in range(self.n_states)]\n"
   ]
  },
  {
   "cell_type": "code",
   "execution_count": 7,
   "metadata": {},
   "outputs": [],
   "source": [
    "from tqdm import tqdm\n",
    "import numpy as np\n",
    "\n",
    "def n_step_TD_prediction(env, n, alpha=0.1, gamma=1, num_episodes=1000, use_td_error=False, progress_bar=True):\n",
    "    V = [0.5] * env.n_states + [0.0]\n",
    "    V = np.array(V)\n",
    "    history = []\n",
    "\n",
    "    if progress_bar:\n",
    "        episodes_range = tqdm(range(num_episodes))\n",
    "    else:\n",
    "        episodes_range = range(num_episodes)\n",
    "\n",
    "    for episode in episodes_range:\n",
    "        state = env.initial_state\n",
    "\n",
    "        T = float(\"inf\")\n",
    "        t = -1\n",
    "        states = [state]\n",
    "        rewards = [0.0]\n",
    "\n",
    "        dV = np.zeros_like(V)\n",
    "\n",
    "        while True:\n",
    "            t += 1\n",
    "            if t < T:\n",
    "                state = states[t]\n",
    "                next_state, reward = env.step(state)\n",
    "                states.append(next_state)\n",
    "                rewards.append(reward)\n",
    "\n",
    "                if env.is_terminal(next_state):\n",
    "                    T = t + 1\n",
    "\n",
    "\n",
    "            t_update = t - n + 1\n",
    "\n",
    "            if t_update >= 0:\n",
    "                G = sum(\n",
    "                    gamma ** (i - t_update - 1) * rewards[i]\n",
    "                    for i in range(t_update + 1, min(t_update + n, T) + 1)\n",
    "                )\n",
    "\n",
    "                if t_update + n < T:\n",
    "                    G += gamma**n * V[states[t_update + n]]\n",
    "                \n",
    "                if use_td_error:\n",
    "                    dV[states[t_update]] += alpha * (G - V[states[t_update]])\n",
    "                else:\n",
    "                    V[states[t_update]] += alpha * (G - V[states[t_update]])\n",
    "\n",
    "\n",
    "            if t_update == T - 1:\n",
    "                V += dV\n",
    "                break\n",
    "\n",
    "\n",
    "        history.append(V.copy()[:-1])\n",
    "        \n",
    "    return V[:-1], history"
   ]
  },
  {
   "cell_type": "code",
   "execution_count": 241,
   "metadata": {},
   "outputs": [],
   "source": [
    "env = RandomWalk(21)\n",
    "true_values = env.true_values()\n",
    "n = 5\n",
    "alpha = 0.1\n",
    "num_episodes = 100\n",
    "gamma = 1"
   ]
  },
  {
   "cell_type": "code",
   "execution_count": 246,
   "metadata": {},
   "outputs": [
    {
     "name": "stdout",
     "output_type": "stream",
     "text": [
      "True Values: [0.045454545454545456, 0.09090909090909091, 0.13636363636363635, 0.18181818181818182, 0.22727272727272727, 0.2727272727272727, 0.3181818181818182, 0.36363636363636365, 0.4090909090909091, 0.45454545454545453, 0.5, 0.5454545454545454, 0.5909090909090909, 0.6363636363636364, 0.6818181818181818, 0.7272727272727273, 0.7727272727272727, 0.8181818181818182, 0.8636363636363636, 0.9090909090909091, 0.9545454545454546]\n",
      "Estimated Values: [0.02711247 0.0430336  0.08000851 0.11398688 0.14500722 0.20688155\n",
      " 0.23257286 0.2537947  0.33340372 0.41570699 0.48216426 0.52119014\n",
      " 0.53683719 0.66851387 0.7190332  0.77339109 0.8692301  0.92858123\n",
      " 0.943492   0.95519109 0.98698769]\n",
      "Estimated Values with TD Error: [0.02596247 0.10117428 0.15890205 0.17580826 0.21507394 0.35685931\n",
      " 0.54156199 0.49859431 0.57660421 0.46531137 0.67343921 0.60215019\n",
      " 0.63414251 0.76303057 0.72024857 0.78577441 0.89580549 0.9387305\n",
      " 0.92666912 0.92813586 0.94535371]\n",
      "Normal update mean square error:   0.0041700681951406535\n",
      "TD error update mean square error: 0.009274022812404773\n"
     ]
    }
   ],
   "source": [
    "print(\"True Values:\", true_values)\n",
    "\n",
    "# Using normal update\n",
    "V_normal, history_normal = n_step_TD_prediction(env, n, alpha, gamma, num_episodes, progress_bar=False)\n",
    "print(\"Estimated Values:\", V_normal)\n",
    "\n",
    "\n",
    "# # Using TD error\n",
    "V_td_error, history_td_error = n_step_TD_prediction(env, n, alpha, gamma, num_episodes, use_td_error=True, progress_bar=False)\n",
    "print(\"Estimated Values with TD Error:\", V_td_error)\n",
    "\n",
    "print(\"Normal update mean square error:  \", np.mean((V_normal - true_values)**2))\n",
    "print(\"TD error update mean square error:\", np.mean((V_td_error - true_values)**2))"
   ]
  },
  {
   "cell_type": "code",
   "execution_count": 263,
   "metadata": {},
   "outputs": [
    {
     "name": "stdout",
     "output_type": "stream",
     "text": [
      "Normal update mean square error:   0.004444461003097974\n",
      "TD error update mean square error: 74.35386049637461\n"
     ]
    }
   ],
   "source": [
    "env = RandomWalk(21)\n",
    "true_values = env.true_values()\n",
    "n = 5\n",
    "alpha = 0.1\n",
    "num_episodes = 25\n",
    "gamma = 1\n",
    "\n",
    "V_normal = []\n",
    "history_normal = []\n",
    "\n",
    "V_td_error = []\n",
    "history_td_error = []\n",
    "\n",
    "\n",
    "for i in range(100):\n",
    "    V, history = n_step_TD_prediction(env, n, alpha, gamma, num_episodes, progress_bar=False)\n",
    "    V_normal.append(V)\n",
    "    history_normal.append(history)\n",
    "\n",
    "    V, history = n_step_TD_prediction(env, n, alpha, gamma, num_episodes, use_td_error=True, progress_bar=False)\n",
    "    V_td_error.append(V)\n",
    "    history_td_error.append(history)\n",
    "\n",
    "V_normal = np.array(V_normal)\n",
    "history_normal = np.array(history_normal)\n",
    "\n",
    "V_td_error = np.array(V_td_error)\n",
    "history_td_error = np.array(history_td_error)\n",
    "\n",
    "V_normal_MSE = np.mean((V_normal - true_values)**2)\n",
    "V_td_error_MSE = np.mean((V_td_error - true_values)**2)\n",
    "\n",
    "\n",
    "# Larger number of episodes breaks the estimation for TD error update\n",
    "print(\"Normal update mean square error:  \", V_normal_MSE)\n",
    "print(\"TD error update mean square error:\", V_td_error_MSE)"
   ]
  },
  {
   "cell_type": "code",
   "execution_count": 282,
   "metadata": {},
   "outputs": [
    {
     "data": {
      "image/png": "[encoded data removed]",
      "text/plain": [
       "<Figure size 640x480 with 1 Axes>"
      ]
     },
     "metadata": {},
     "output_type": "display_data"
    }
   ],
   "source": [
    "import matplotlib.pyplot as plt\n",
    "\n",
    "normal_update_error_history = (((history_normal - true_values) ** 2).mean(axis=-1)**1/2).mean(axis=0)\n",
    "td_update_error_history = (((history_td_error - true_values) ** 2).mean(axis=-1)**1/2).mean(axis=0)\n",
    "# print(normal_update_error_history)\n",
    "# print(td_update_error_history)\n",
    "\n",
    "plt.plot(normal_update_error_history, label=\"Normal update\")\n",
    "plt.plot(td_update_error_history, label=\"TD error update\")\n",
    "plt.xlabel(\"Episodes\")\n",
    "plt.ylabel(\"Mean Square Error\")\n",
    "plt.legend()\n",
    "plt.title(f\"Average RMS error for Normal and TD Error Updates\\n\"\n",
    "          f\"n = {n}, alpha = {alpha}, num_episodes = {num_episodes}\")\n",
    "plt.show()"
   ]
  }
 ],
 "metadata": {
  "kernelspec": {
   "display_name": "python",
   "language": "python",
   "name": "python3"
  },
  "language_info": {
   "codemirror_mode": {
    "name": "ipython",
    "version": 3
   },
   "file_extension": ".py",
   "mimetype": "text/x-python",
   "name": "python",
   "nbconvert_exporter": "python",
   "pygments_lexer": "ipython3",
   "version": "3.12.4"
  }
 },
 "nbformat": 4,
 "nbformat_minor": 2
}
